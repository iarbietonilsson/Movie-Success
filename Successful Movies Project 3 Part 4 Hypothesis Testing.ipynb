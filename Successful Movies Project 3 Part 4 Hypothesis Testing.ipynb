{
 "cells": [
  {
   "cell_type": "markdown",
   "id": "9edc17a3",
   "metadata": {
    "toc": true
   },
   "source": [
    "<h1>Table of Contents<span class=\"tocSkip\"></span></h1>\n",
    "<div class=\"toc\"><ul class=\"toc-item\"><li><span><a href=\"#Successful-Movies\" data-toc-modified-id=\"Successful-Movies-1\">Successful Movies</a></span><ul class=\"toc-item\"><li><span><a href=\"#Project-3---Part-4\" data-toc-modified-id=\"Project-3---Part-4-1.1\">Project 3 - Part 4</a></span></li><li><span><a href=\"#Hypothesis-Testing\" data-toc-modified-id=\"Hypothesis-Testing-1.2\">Hypothesis Testing</a></span><ul class=\"toc-item\"><li><span><a href=\"#What-Makes-a-Movie-Successful?\" data-toc-modified-id=\"What-Makes-a-Movie-Successful?-1.2.1\"><strong><em>What Makes a Movie Successful?</em></strong></a></span></li><li><span><a href=\"#Ingrid-Arbieto-Nelson\" data-toc-modified-id=\"Ingrid-Arbieto-Nelson-1.2.2\">Ingrid Arbieto Nelson</a></span></li></ul></li></ul></li></ul></div>"
   ]
  },
  {
   "cell_type": "markdown",
   "id": "d39a6441",
   "metadata": {},
   "source": [
    "# Successful Movies\n",
    "\n",
    "---\n",
    "\n",
    "## Project 3 - Part 4\n",
    "\n",
    "## Hypothesis Testing\n",
    "* ### ***What Makes a Movie Successful?***\n",
    "\n",
    "* ### Ingrid Arbieto Nelson"
   ]
  },
  {
   "cell_type": "markdown",
   "id": "1b48293a",
   "metadata": {},
   "source": [
    "## Business Problem\n",
    "> *For this project, you have been hired to produce a MySQL database on Movies from a subset of IMDB's publicly available dataset. Ultimately, you will use this database to analyze what makes a movie successful, and will provide recommendations to the stakeholder on how to make a successful movie.*\n",
    "\n",
    "Over the course of this project, you will:\n",
    "\n",
    "* **Part 1**: Download several files from IMDB’s movie data set and filter out the subset of moves requested by the stakeholder.\n",
    "* **Part 2**: Use an API to extract box office revenue and profit data to add to your IMDB data and perform exploratory data analysis.\n",
    "* **Part 3**: Construct and export a MySQL database using your data.\n",
    "* **Part 4**: Apply hypothesis testing to explore what makes a movie successful.\n",
    "* **Part 5** (Optional): Produce a Linear Regression model to predict movie performance.\n",
    "\n",
    "<img src =\"Images/theater.png\">\n",
    "\n",
    "### Data Source \n",
    "\n",
    "<img src = \"Images/blue_long_1-8ba2ac31f354005783fab473602c34c3f4fd207150182061e425d366e4f34596.svg\">\n",
    "\n",
    "* **TMDB** Provides Several Files with varied information for Movies, TV Shows, Made for TV Movies, etc.\n",
    "\n",
    "### Part 4\n",
    "\n",
    ">For part 4 of the project, you will be using your MySQL database from part 3 to answer meaningful questions for your stakeholder. They want you to use your hypothesis testing and statistics knowledge to answer 3 questions about what makes a successful movie.\n",
    "\n",
    "### Questions to Answer\n",
    "* **The stakeholder's first question is: *Does the MPAA rating of a movie (G/PG/PG-13/R) affect how much revenue the movie generates?***\n",
    "\n",
    "   * They want you to perform a statistical test to get a mathematically-supported answer.\n",
    "   * They want you to report if you found a significant difference between ratings.\n",
    "      * If so, what was the p-value of your analysis?\n",
    "      * And which rating earns the most revenue?\n",
    "   * They want you to prepare a visualization that supports your finding.\n",
    "* **It is then up to you to think of 2 additional hypotheses to test that your stakeholder may want to know.**\n",
    "\n",
    "* Some example hypotheses you could test:\n",
    "\n",
    "   * Do movies that are over 2.5 hours long earn more revenue than movies that are 1.5 hours long (or less)?\n",
    "   * Do movies released in 2020 earn less revenue than movies released in 2018?\n",
    "      * How do the years compare for movie ratings?\n",
    "   * Do some movie genres earn more revenue than others?\n",
    "   * Are some genres higher rated than others?\n",
    "   * etc.\n",
    "   \n",
    "### Specifications\n",
    "#### Your Data\n",
    "* A critical first step for this assignment will be to retrieve additional movie data to add to your SQL database.\n",
    "   * You will want to use the TMDB API again and extract data for additional years.\n",
    "   * You may want to review the optional lesson from Week 1 on \"Using glob to Load Many Files\" to load and combine all of your API results for each year.\n",
    "* **However, trying to extract the TMDB data for all movies from 2000-2022 could take >24 hours!**\n",
    "* **To address this issue, you should EITHER:**\n",
    "   * **Define a smaller (but logical) period of time** to use for your analyses (e.g. last 10 years, 2010-2019 (pre-pandemic, etc).\n",
    "   * **OR coordinate with cohort-mates and divide the API calls** so that you can all download the data for a smaller number of years and then share your downloaded JSON data.\n",
    "\n",
    "\n",
    "### Deliverables\n",
    "* You should use the same project repository you have been using for Parts 1-3 (for your portfolio).\n",
    "   * Create a new notebook in your project repository just for the hypothesis testing (like \"Part 4 - Hypothesis Testing.ipynb\")\n",
    "   * Make sure the results and visualization for all 3 hypotheses are in your notebook.\n",
    "\n",
    "Please submit the link to your GitHub repository for this assignment."
   ]
  }
 ],
 "metadata": {
  "kernelspec": {
   "display_name": "Python (dojo-env)",
   "language": "python",
   "name": "dojo-env"
  },
  "language_info": {
   "codemirror_mode": {
    "name": "ipython",
    "version": 3
   },
   "file_extension": ".py",
   "mimetype": "text/x-python",
   "name": "python",
   "nbconvert_exporter": "python",
   "pygments_lexer": "ipython3",
   "version": "3.9.15"
  },
  "toc": {
   "base_numbering": 1,
   "nav_menu": {},
   "number_sections": false,
   "sideBar": true,
   "skip_h1_title": false,
   "title_cell": "Table of Contents",
   "title_sidebar": "Contents",
   "toc_cell": true,
   "toc_position": {},
   "toc_section_display": true,
   "toc_window_display": true
  }
 },
 "nbformat": 4,
 "nbformat_minor": 5
}
