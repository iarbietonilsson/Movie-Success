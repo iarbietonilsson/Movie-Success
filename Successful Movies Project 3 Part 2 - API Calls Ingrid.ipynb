{
 "cells": [
  {
   "cell_type": "markdown",
   "id": "6be2a8a4",
   "metadata": {},
   "source": [
    "# Successful Movies\n",
    "---\n",
    "\n",
    "## Project 3 - Part 2 Extract from TMDB (Core)\n",
    "\n",
    "## API Calls\n",
    "\n",
    "* ### ***What Makes a Movie Successful?***\n",
    "\n",
    "* ### Ingrid Arbieto Nelson"
   ]
  },
  {
   "cell_type": "markdown",
   "id": "2aa9f30a",
   "metadata": {
    "toc": true
   },
   "source": [
    "<h1>Table of Contents<span class=\"tocSkip\"></span></h1>\n",
    "<div class=\"toc\"><ul class=\"toc-item\"><li><span><a href=\"#Successful-Movies\" data-toc-modified-id=\"Successful-Movies-1\">Successful Movies</a></span><ul class=\"toc-item\"><li><span><a href=\"#Project-3---Part-2-Extract-from-TMDB-(Core)\" data-toc-modified-id=\"Project-3---Part-2-Extract-from-TMDB-(Core)-1.1\">Project 3 - Part 2 Extract from TMDB (Core)</a></span><ul class=\"toc-item\"><li><span><a href=\"#What-Makes-a-Movie-Successful?\" data-toc-modified-id=\"What-Makes-a-Movie-Successful?-1.1.1\"><strong><em>What Makes a Movie Successful?</em></strong></a></span></li><li><span><a href=\"#Ingrid-Arbieto-Nelson\" data-toc-modified-id=\"Ingrid-Arbieto-Nelson-1.1.2\">Ingrid Arbieto Nelson</a></span></li></ul></li><li><span><a href=\"#Business-Problem\" data-toc-modified-id=\"Business-Problem-1.2\">Business Problem</a></span><ul class=\"toc-item\"><li><span><a href=\"#Your-Stakeholder-Wants-More-Data!\" data-toc-modified-id=\"Your-Stakeholder-Wants-More-Data!-1.2.1\">Your Stakeholder Wants More Data!</a></span></li><li><span><a href=\"#Data-Source\" data-toc-modified-id=\"Data-Source-1.2.2\">Data Source</a></span></li><li><span><a href=\"#Specifications---Financial-Data\" data-toc-modified-id=\"Specifications---Financial-Data-1.2.3\">Specifications - Financial Data</a></span></li><li><span><a href=\"#Confirm-Your-API-Function-works.\" data-toc-modified-id=\"Confirm-Your-API-Function-works.-1.2.4\">Confirm Your API Function works.</a></span></li><li><span><a href=\"#Exploratory-Data-Analysis\" data-toc-modified-id=\"Exploratory-Data-Analysis-1.2.5\">Exploratory Data Analysis</a></span></li><li><span><a href=\"#Deliverables\" data-toc-modified-id=\"Deliverables-1.2.6\">Deliverables</a></span></li></ul></li><li><span><a href=\"#API-Call-Code-Section\" data-toc-modified-id=\"API-Call-Code-Section-1.3\">API Call Code Section</a></span><ul class=\"toc-item\"><li><span><a href=\"#Imports\" data-toc-modified-id=\"Imports-1.3.1\">Imports</a></span></li><li><span><a href=\"#Using-Your-TMDB-API-Credentials\" data-toc-modified-id=\"Using-Your-TMDB-API-Credentials-1.3.2\">Using Your TMDB API Credentials</a></span></li><li><span><a href=\"#Get-Movie-Rating-Function\" data-toc-modified-id=\"Get-Movie-Rating-Function-1.3.3\">Get Movie Rating Function</a></span></li><li><span><a href=\"#Write-JSON-function\" data-toc-modified-id=\"Write-JSON-function-1.3.4\">Write JSON function</a></span></li><li><span><a href=\"#Test-for-Movies\" data-toc-modified-id=\"Test-for-Movies-1.3.5\">Test for Movies</a></span></li><li><span><a href=\"#Folder-&amp;-Year-Setup\" data-toc-modified-id=\"Folder-&amp;-Year-Setup-1.3.6\">Folder &amp; Year Setup</a></span></li><li><span><a href=\"#For-Loop-Code\" data-toc-modified-id=\"For-Loop-Code-1.3.7\">For Loop Code</a></span></li></ul></li></ul></li></ul></div>"
   ]
  },
  {
   "cell_type": "markdown",
   "id": "0d487bfe",
   "metadata": {},
   "source": [
    "## Business Problem\n",
    "> *For this project, you have been hired to produce a MySQL database on Movies from a subset of IMDB's publicly available dataset. Ultimately, you will use this database to analyze what makes a movie successful, and will provide recommendations to the stakeholder on how to make a successful movie.*\n",
    "\n",
    "Over the course of this project, you will:\n",
    "\n",
    "* **Part 1**: Download several files from IMDB’s movie data set and filter out the subset of moves requested by the stakeholder.\n",
    "* **Part 2**: Use an API to extract box office revenue and profit data to add to your IMDB data and perform exploratory data analysis.\n",
    "* **Part 3**: Construct and export a MySQL database using your data.\n",
    "* **Part 4**: Apply hypothesis testing to explore what makes a movie successful.\n",
    "* **Part 5** (Optional): Produce a Linear Regression model to predict movie performance.\n",
    "\n",
    "<img src =\"Images/theater.png\">\n",
    "\n",
    "### Your Stakeholder Wants More Data!\n",
    "* After investigating the preview of your data from Part 1, your stakeholder realized that there is no financial information included in the IMDB data (e.g. budget or revenue).\n",
    "\n",
    "* This will be a major roadblock when attempting to analyze which movies are successful and must be addressed before you will be able to determine which movies are successful.\n",
    "\n",
    "### Data Source \n",
    "\n",
    "<img src = \"Images/blue_long_1-8ba2ac31f354005783fab473602c34c3f4fd207150182061e425d366e4f34596.svg\">\n",
    "\n",
    "* **TMDB** Provides Several Files with varied information for Movies, TV Shows, Made for TV Movies, etc.\n",
    "\n",
    "* Your stakeholder identified **[The Movie Database (TMDB)](https://www.themoviedb.org/)** as a great source of financial data . Thankfully, TMDB offers a free API for programmatic access to their data!\n",
    "\n",
    "* **Your stakeholder wants you to extract the budget, revenue, and MPAA Rating (G/PG/PG-13/R), which is also called \"Certification\".**\n",
    "\n",
    "* **Note: this process can take a long time and may need to run overnight.**\n",
    "\n",
    "### Specifications - Financial Data\n",
    "* Your stakeholder would like you to extract and save the results for movies that meet all of the criteria established in part 1 of the project *(You should already have a filtered dataframe saved from part one as a csv.gz file)*\n",
    "\n",
    "* As a proof-of-concept, they requested you perform a test extraction of movies that started in ***2000 or 2001***\n",
    "\n",
    "* Each year should be saved as a separate .csv.gz file\n",
    "\n",
    "**Hint: Use the two custom functions from the lessons** ***(Intro to TMDB API, and Efficient TMDB API Calls).*** **Be sure to define these functions prior to calling them in your code!**\n",
    "\n",
    "* One function will add the certification (MPGG Rating) to movie.info\n",
    "* The other function will help you append/extend a JSON file with Python\n",
    "\n",
    "### Confirm Your API Function works.\n",
    "\n",
    "* In order to ensure your function for extracting movie data from TMDB is working, test your function on these 2 movie ids:\n",
    "   * tt0848228 (\"The Avengers\")\n",
    "   * tt0332280 (\"The Notebook\").\n",
    "* Make sure that your function runs without error and that it returns the correct movie's data for both test ids.\n",
    "\n",
    "**Hint: Ideally you can organize the code segments from the previous lesson to create an outer and inner loop, but if you get stuck, you can complete 1 year at a time.**\n",
    "\n",
    "* Once you have retrieved and saved the final results to 2 separate .csv.gz files, move on to a new Exploratory Data Analysis notebook to explore the following questions.\n",
    "\n",
    "### Exploratory Data Analysis\n",
    "* See EDA notebook.\n",
    "\n",
    "### Deliverables\n",
    "After you have joined the tmdb results into 1 dataframe in the EDA Notebook,\n",
    "\n",
    "* Save a final merged .csv.gz of all of the tmdb api data *(The file name should be \"tmdb_results_combined.csv.gz\"*\n",
    "* Make sure this is pushed to your github repository along with all of your code\n",
    "  * One code file for API calls\n",
    "  * One code file for EDA\n",
    "* Submit the link"
   ]
  },
  {
   "cell_type": "markdown",
   "id": "28606a94",
   "metadata": {},
   "source": [
    "## API Call Code Section"
   ]
  },
  {
   "cell_type": "markdown",
   "id": "b6733448",
   "metadata": {},
   "source": [
    "### Imports"
   ]
  },
  {
   "cell_type": "code",
   "execution_count": 1,
   "id": "a4d32be7",
   "metadata": {},
   "outputs": [
    {
     "name": "stdout",
     "output_type": "stream",
     "text": [
      "Requirement already satisfied: tmdbsimple in c:\\users\\sweet\\anaconda3\\envs\\dojo-env\\lib\\site-packages (2.9.1)\n",
      "Requirement already satisfied: requests in c:\\users\\sweet\\anaconda3\\envs\\dojo-env\\lib\\site-packages (from tmdbsimple) (2.28.1)\n",
      "Requirement already satisfied: certifi>=2017.4.17 in c:\\users\\sweet\\anaconda3\\envs\\dojo-env\\lib\\site-packages (from requests->tmdbsimple) (2022.9.24)\n",
      "Requirement already satisfied: idna<4,>=2.5 in c:\\users\\sweet\\anaconda3\\envs\\dojo-env\\lib\\site-packages (from requests->tmdbsimple) (3.4)\n",
      "Requirement already satisfied: charset-normalizer<3,>=2 in c:\\users\\sweet\\anaconda3\\envs\\dojo-env\\lib\\site-packages (from requests->tmdbsimple) (2.0.4)\n",
      "Requirement already satisfied: urllib3<1.27,>=1.21.1 in c:\\users\\sweet\\anaconda3\\envs\\dojo-env\\lib\\site-packages (from requests->tmdbsimple) (1.26.13)\n"
     ]
    }
   ],
   "source": [
    "# Install tmdbsimple (only need to run once)\n",
    "!pip install tmdbsimple"
   ]
  },
  {
   "cell_type": "code",
   "execution_count": 8,
   "id": "04f10315",
   "metadata": {},
   "outputs": [],
   "source": [
    "import pandas as pd\n",
    "\n",
    "import os, time, json\n",
    "import tmdbsimple as tmdb\n",
    "from tqdm.notebook import tqdm_notebook"
   ]
  },
  {
   "cell_type": "markdown",
   "id": "dd19d831",
   "metadata": {},
   "source": [
    "### Using Your TMDB API Credentials"
   ]
  },
  {
   "cell_type": "code",
   "execution_count": 3,
   "id": "0e33e0c4",
   "metadata": {},
   "outputs": [
    {
     "data": {
      "text/plain": [
       "dict_keys(['api-key'])"
      ]
     },
     "execution_count": 3,
     "metadata": {},
     "output_type": "execute_result"
    }
   ],
   "source": [
    "with open('/Users/sweet/.secret/tmdb_api.json', 'r') as f:\n",
    "    login = json.load(f)\n",
    "## Display the keys of the loaded dict\n",
    "login.keys()"
   ]
  },
  {
   "cell_type": "code",
   "execution_count": 4,
   "id": "20e427ea",
   "metadata": {},
   "outputs": [],
   "source": [
    "# set tmdb API key\n",
    "tmdb.API_KEY =  login['api-key']"
   ]
  },
  {
   "cell_type": "markdown",
   "id": "60e62b51",
   "metadata": {},
   "source": [
    "### Get Movie Rating Function"
   ]
  },
  {
   "cell_type": "code",
   "execution_count": 5,
   "id": "f03e3b79",
   "metadata": {},
   "outputs": [],
   "source": [
    "def get_movie_with_rating(movie_id):\n",
    "   \"\"\"Adapted from source = https://github.com/celiao/tmdbsimple\"\"\"\n",
    "   # Get the movie object for the current id\n",
    "   movie = tmdb.Movies(movie_id)\n",
    "\n",
    "   # save the .info .releases dictionaries\n",
    "   info = movie.info()\n",
    "\n",
    "   releases = movie.releases()\n",
    "   # Loop through countries in releases\n",
    "   for c in releases['countries']:\n",
    "        # if the country abbreviation == US\n",
    "        if c['iso_3166_1'] == 'US':\n",
    "           # save a \"certification\" key in info with the certification\n",
    "           info['certification'] = c['certification']\n",
    "    \n",
    "   return info"
   ]
  },
  {
   "cell_type": "markdown",
   "id": "9f4c86e6",
   "metadata": {},
   "source": [
    "### Write JSON function"
   ]
  },
  {
   "cell_type": "code",
   "execution_count": 10,
   "id": "e6a52578",
   "metadata": {},
   "outputs": [],
   "source": [
    "def write_json(new_data, filename): \n",
    "    \"\"\"Appends a list of records (new_data) to a json file (filename). \n",
    "    Adapted from: https://www.geeksforgeeks.org/append-to-json-file-using-python/\"\"\"  \n",
    "    \n",
    "    with open(filename,'r+') as file:\n",
    "        # First we load existing data into a dict.\n",
    "        file_data = json.load(file)\n",
    "        ## Choose extend or append\n",
    "        if (type(new_data) == list) & (type(file_data) == list):\n",
    "            file_data.extend(new_data)\n",
    "        else:\n",
    "             file_data.append(new_data)\n",
    "        # Sets file's current position at offset.\n",
    "        file.seek(0)\n",
    "        # convert back to json.\n",
    "        json.dump(file_data, file)"
   ]
  },
  {
   "cell_type": "markdown",
   "id": "08e89541",
   "metadata": {},
   "source": [
    "### Test for Movies\n",
    "\n",
    "#### *See if function works for movies:*\n",
    "*  **The Avengers** tt0848228 \n",
    "* **The Notebook** tt0332280"
   ]
  },
  {
   "cell_type": "code",
   "execution_count": 6,
   "id": "7465a117",
   "metadata": {},
   "outputs": [
    {
     "data": {
      "text/html": [
       "<div>\n",
       "<style scoped>\n",
       "    .dataframe tbody tr th:only-of-type {\n",
       "        vertical-align: middle;\n",
       "    }\n",
       "\n",
       "    .dataframe tbody tr th {\n",
       "        vertical-align: top;\n",
       "    }\n",
       "\n",
       "    .dataframe thead th {\n",
       "        text-align: right;\n",
       "    }\n",
       "</style>\n",
       "<table border=\"1\" class=\"dataframe\">\n",
       "  <thead>\n",
       "    <tr style=\"text-align: right;\">\n",
       "      <th></th>\n",
       "      <th>adult</th>\n",
       "      <th>backdrop_path</th>\n",
       "      <th>belongs_to_collection</th>\n",
       "      <th>budget</th>\n",
       "      <th>genres</th>\n",
       "      <th>homepage</th>\n",
       "      <th>id</th>\n",
       "      <th>imdb_id</th>\n",
       "      <th>original_language</th>\n",
       "      <th>original_title</th>\n",
       "      <th>...</th>\n",
       "      <th>revenue</th>\n",
       "      <th>runtime</th>\n",
       "      <th>spoken_languages</th>\n",
       "      <th>status</th>\n",
       "      <th>tagline</th>\n",
       "      <th>title</th>\n",
       "      <th>video</th>\n",
       "      <th>vote_average</th>\n",
       "      <th>vote_count</th>\n",
       "      <th>certification</th>\n",
       "    </tr>\n",
       "  </thead>\n",
       "  <tbody>\n",
       "    <tr>\n",
       "      <th>0</th>\n",
       "      <td>False</td>\n",
       "      <td>/9BBTo63ANSmhC4e6r62OJFuK2GL.jpg</td>\n",
       "      <td>{'id': 86311, 'name': 'The Avengers Collection...</td>\n",
       "      <td>220000000</td>\n",
       "      <td>[{'id': 878, 'name': 'Science Fiction'}, {'id'...</td>\n",
       "      <td>https://www.marvel.com/movies/the-avengers</td>\n",
       "      <td>24428</td>\n",
       "      <td>tt0848228</td>\n",
       "      <td>en</td>\n",
       "      <td>The Avengers</td>\n",
       "      <td>...</td>\n",
       "      <td>1518815515</td>\n",
       "      <td>143</td>\n",
       "      <td>[{'english_name': 'English', 'iso_639_1': 'en'...</td>\n",
       "      <td>Released</td>\n",
       "      <td>Some assembly required.</td>\n",
       "      <td>The Avengers</td>\n",
       "      <td>False</td>\n",
       "      <td>7.707</td>\n",
       "      <td>28532</td>\n",
       "      <td>PG-13</td>\n",
       "    </tr>\n",
       "    <tr>\n",
       "      <th>1</th>\n",
       "      <td>False</td>\n",
       "      <td>/qom1SZSENdmHFNZBXbtJAU0WTlC.jpg</td>\n",
       "      <td>None</td>\n",
       "      <td>29000000</td>\n",
       "      <td>[{'id': 10749, 'name': 'Romance'}, {'id': 18, ...</td>\n",
       "      <td>http://www.newline.com/properties/notebookthe....</td>\n",
       "      <td>11036</td>\n",
       "      <td>tt0332280</td>\n",
       "      <td>en</td>\n",
       "      <td>The Notebook</td>\n",
       "      <td>...</td>\n",
       "      <td>115603229</td>\n",
       "      <td>123</td>\n",
       "      <td>[{'english_name': 'English', 'iso_639_1': 'en'...</td>\n",
       "      <td>Released</td>\n",
       "      <td>Behind every great love is a great story.</td>\n",
       "      <td>The Notebook</td>\n",
       "      <td>False</td>\n",
       "      <td>7.878</td>\n",
       "      <td>10298</td>\n",
       "      <td>PG-13</td>\n",
       "    </tr>\n",
       "  </tbody>\n",
       "</table>\n",
       "<p>2 rows × 26 columns</p>\n",
       "</div>"
      ],
      "text/plain": [
       "   adult                     backdrop_path  \\\n",
       "0  False  /9BBTo63ANSmhC4e6r62OJFuK2GL.jpg   \n",
       "1  False  /qom1SZSENdmHFNZBXbtJAU0WTlC.jpg   \n",
       "\n",
       "                               belongs_to_collection     budget  \\\n",
       "0  {'id': 86311, 'name': 'The Avengers Collection...  220000000   \n",
       "1                                               None   29000000   \n",
       "\n",
       "                                              genres  \\\n",
       "0  [{'id': 878, 'name': 'Science Fiction'}, {'id'...   \n",
       "1  [{'id': 10749, 'name': 'Romance'}, {'id': 18, ...   \n",
       "\n",
       "                                            homepage     id    imdb_id  \\\n",
       "0         https://www.marvel.com/movies/the-avengers  24428  tt0848228   \n",
       "1  http://www.newline.com/properties/notebookthe....  11036  tt0332280   \n",
       "\n",
       "  original_language original_title  ...     revenue  runtime  \\\n",
       "0                en   The Avengers  ...  1518815515      143   \n",
       "1                en   The Notebook  ...   115603229      123   \n",
       "\n",
       "                                    spoken_languages    status  \\\n",
       "0  [{'english_name': 'English', 'iso_639_1': 'en'...  Released   \n",
       "1  [{'english_name': 'English', 'iso_639_1': 'en'...  Released   \n",
       "\n",
       "                                     tagline         title  video  \\\n",
       "0                    Some assembly required.  The Avengers  False   \n",
       "1  Behind every great love is a great story.  The Notebook  False   \n",
       "\n",
       "   vote_average vote_count certification  \n",
       "0         7.707      28532         PG-13  \n",
       "1         7.878      10298         PG-13  \n",
       "\n",
       "[2 rows x 26 columns]"
      ]
     },
     "execution_count": 6,
     "metadata": {},
     "output_type": "execute_result"
    }
   ],
   "source": [
    "## testing our function by looping through a list of ids\n",
    "import pandas as pd\n",
    "test_ids = [\"tt0848228\", \"tt0332280\"]\n",
    "results = []\n",
    "errors = []\n",
    "for movie_id in test_ids:\n",
    "    \n",
    "    try:\n",
    "        movie_info = get_movie_with_rating(movie_id)\n",
    "        results.append(movie_info)\n",
    "        \n",
    "    except Exception as e: \n",
    "        errors.append([movie_id, e])\n",
    "    \n",
    "pd.DataFrame(results)"
   ]
  },
  {
   "cell_type": "code",
   "execution_count": 7,
   "id": "7e83c894",
   "metadata": {},
   "outputs": [
    {
     "name": "stdout",
     "output_type": "stream",
     "text": [
      "- Number of errors: 0\n"
     ]
    },
    {
     "data": {
      "text/plain": [
       "[]"
      ]
     },
     "execution_count": 7,
     "metadata": {},
     "output_type": "execute_result"
    }
   ],
   "source": [
    "print(f\"- Number of errors: {len(errors)}\")\n",
    "errors"
   ]
  },
  {
   "cell_type": "markdown",
   "id": "3b8c333a",
   "metadata": {},
   "source": [
    "### Folder & Year Setup\n",
    "\n",
    "* Setup Folder to store movie data\n",
    "* Specify Years to retrieve movie data from"
   ]
  },
  {
   "cell_type": "code",
   "execution_count": 9,
   "id": "ea78d988",
   "metadata": {},
   "outputs": [
    {
     "data": {
      "text/plain": [
       "['.ipynb_checkpoints',\n",
       " 'title_akas.csv.gz',\n",
       " 'title_basics.csv.gz',\n",
       " 'title_ratings.csv.gz']"
      ]
     },
     "execution_count": 9,
     "metadata": {},
     "output_type": "execute_result"
    }
   ],
   "source": [
    "# files in Data folder\n",
    "FOLDER = \"Data/\"\n",
    "os.makedirs(FOLDER, exist_ok=True)\n",
    "os.listdir(FOLDER)"
   ]
  },
  {
   "cell_type": "code",
   "execution_count": 11,
   "id": "1db15a03",
   "metadata": {},
   "outputs": [],
   "source": [
    "# specify years to get movie data\n",
    "YEARS_TO_GET = [2000,2001]"
   ]
  },
  {
   "cell_type": "code",
   "execution_count": 12,
   "id": "3b378cd3",
   "metadata": {},
   "outputs": [
    {
     "data": {
      "text/html": [
       "<div>\n",
       "<style scoped>\n",
       "    .dataframe tbody tr th:only-of-type {\n",
       "        vertical-align: middle;\n",
       "    }\n",
       "\n",
       "    .dataframe tbody tr th {\n",
       "        vertical-align: top;\n",
       "    }\n",
       "\n",
       "    .dataframe thead th {\n",
       "        text-align: right;\n",
       "    }\n",
       "</style>\n",
       "<table border=\"1\" class=\"dataframe\">\n",
       "  <thead>\n",
       "    <tr style=\"text-align: right;\">\n",
       "      <th></th>\n",
       "      <th>tconst</th>\n",
       "      <th>titleType</th>\n",
       "      <th>primaryTitle</th>\n",
       "      <th>originalTitle</th>\n",
       "      <th>isAdult</th>\n",
       "      <th>startYear</th>\n",
       "      <th>runtimeMinutes</th>\n",
       "      <th>genres</th>\n",
       "    </tr>\n",
       "  </thead>\n",
       "  <tbody>\n",
       "    <tr>\n",
       "      <th>0</th>\n",
       "      <td>tt0035423</td>\n",
       "      <td>movie</td>\n",
       "      <td>Kate &amp; Leopold</td>\n",
       "      <td>Kate &amp; Leopold</td>\n",
       "      <td>0</td>\n",
       "      <td>2001.0</td>\n",
       "      <td>118</td>\n",
       "      <td>Comedy,Fantasy,Romance</td>\n",
       "    </tr>\n",
       "    <tr>\n",
       "      <th>1</th>\n",
       "      <td>tt0062336</td>\n",
       "      <td>movie</td>\n",
       "      <td>The Tango of the Widower and Its Distorting Mi...</td>\n",
       "      <td>El tango del viudo y su espejo deformante</td>\n",
       "      <td>0</td>\n",
       "      <td>2020.0</td>\n",
       "      <td>70</td>\n",
       "      <td>Drama</td>\n",
       "    </tr>\n",
       "    <tr>\n",
       "      <th>2</th>\n",
       "      <td>tt0069049</td>\n",
       "      <td>movie</td>\n",
       "      <td>The Other Side of the Wind</td>\n",
       "      <td>The Other Side of the Wind</td>\n",
       "      <td>0</td>\n",
       "      <td>2018.0</td>\n",
       "      <td>122</td>\n",
       "      <td>Drama</td>\n",
       "    </tr>\n",
       "    <tr>\n",
       "      <th>3</th>\n",
       "      <td>tt0088751</td>\n",
       "      <td>movie</td>\n",
       "      <td>The Naked Monster</td>\n",
       "      <td>The Naked Monster</td>\n",
       "      <td>0</td>\n",
       "      <td>2005.0</td>\n",
       "      <td>100</td>\n",
       "      <td>Comedy,Horror,Sci-Fi</td>\n",
       "    </tr>\n",
       "    <tr>\n",
       "      <th>4</th>\n",
       "      <td>tt0096056</td>\n",
       "      <td>movie</td>\n",
       "      <td>Crime and Punishment</td>\n",
       "      <td>Crime and Punishment</td>\n",
       "      <td>0</td>\n",
       "      <td>2002.0</td>\n",
       "      <td>126</td>\n",
       "      <td>Drama</td>\n",
       "    </tr>\n",
       "  </tbody>\n",
       "</table>\n",
       "</div>"
      ],
      "text/plain": [
       "      tconst titleType                                       primaryTitle  \\\n",
       "0  tt0035423     movie                                     Kate & Leopold   \n",
       "1  tt0062336     movie  The Tango of the Widower and Its Distorting Mi...   \n",
       "2  tt0069049     movie                         The Other Side of the Wind   \n",
       "3  tt0088751     movie                                  The Naked Monster   \n",
       "4  tt0096056     movie                               Crime and Punishment   \n",
       "\n",
       "                               originalTitle  isAdult  startYear  \\\n",
       "0                             Kate & Leopold        0     2001.0   \n",
       "1  El tango del viudo y su espejo deformante        0     2020.0   \n",
       "2                 The Other Side of the Wind        0     2018.0   \n",
       "3                          The Naked Monster        0     2005.0   \n",
       "4                       Crime and Punishment        0     2002.0   \n",
       "\n",
       "   runtimeMinutes                  genres  \n",
       "0             118  Comedy,Fantasy,Romance  \n",
       "1              70                   Drama  \n",
       "2             122                   Drama  \n",
       "3             100    Comedy,Horror,Sci-Fi  \n",
       "4             126                   Drama  "
      ]
     },
     "execution_count": 12,
     "metadata": {},
     "output_type": "execute_result"
    }
   ],
   "source": [
    "# load basics dataframe\n",
    "basics = pd.read_csv(\"Data/title_basics.csv.gz\", low_memory = False)\n",
    "basics.head()"
   ]
  },
  {
   "cell_type": "markdown",
   "id": "0cb34383",
   "metadata": {},
   "source": [
    "### For Loop Code"
   ]
  },
  {
   "cell_type": "code",
   "execution_count": 14,
   "id": "fa1faa04",
   "metadata": {},
   "outputs": [
    {
     "data": {
      "application/vnd.jupyter.widget-view+json": {
       "model_id": "f2b94ca7484a47e1b6794cdd128930d1",
       "version_major": 2,
       "version_minor": 0
      },
      "text/plain": [
       "YEARS:   0%|          | 0/2 [00:00<?, ?it/s]"
      ]
     },
     "metadata": {},
     "output_type": "display_data"
    },
    {
     "data": {
      "application/vnd.jupyter.widget-view+json": {
       "model_id": "7aa12079be0d46a182bfb4b511ba0169",
       "version_major": 2,
       "version_minor": 0
      },
      "text/plain": [
       "Movies from 2000:   0%|          | 0/1444 [00:00<?, ?it/s]"
      ]
     },
     "metadata": {},
     "output_type": "display_data"
    },
    {
     "data": {
      "application/vnd.jupyter.widget-view+json": {
       "model_id": "931c7b189a1a4b50a3ddc387ec7e411b",
       "version_major": 2,
       "version_minor": 0
      },
      "text/plain": [
       "Movies from 2001:   0%|          | 0/1568 [00:00<?, ?it/s]"
      ]
     },
     "metadata": {},
     "output_type": "display_data"
    }
   ],
   "source": [
    "# Start of OUTER loop\n",
    "for YEAR in tqdm_notebook(YEARS_TO_GET, desc='YEARS', position=0):\n",
    "    #Defining the JSON file to store results for year\n",
    "    JSON_FILE = f'{FOLDER}tmdb_api_results_{YEAR}.json'\n",
    "    \n",
    "    # Check if file exists\n",
    "    file_exists = os.path.isfile(JSON_FILE)\n",
    "    \n",
    "    # If it does not exist: create it\n",
    "    if file_exists == False:\n",
    "      # save an empty dict with just \"imdb_id\" to the new json file.\n",
    "      with open(JSON_FILE,'w') as f:\n",
    "         json.dump([{'imdb_id':0}],f)\n",
    "    \n",
    "    #Saving new year as the current df\n",
    "    df = basics.loc[ basics['startYear']==YEAR].copy()\n",
    "    \n",
    "    # saving movie ids to list\n",
    "    movie_ids = df['tconst'].copy()\n",
    "    movie_ids\n",
    "    \n",
    "    # Load existing data from json into a dataframe called \"previous_df\"\n",
    "    previous_df = pd.read_json(JSON_FILE)\n",
    "    previous_df\n",
    "    \n",
    "    # filter out any ids that are already in the JSON_FILE\n",
    "    movie_ids_to_get = movie_ids[~movie_ids.isin(previous_df['imdb_id'])]\n",
    "    \n",
    "    #Get index and movie id from list\n",
    "    # INNER Loop\n",
    "    for movie_id in tqdm_notebook(movie_ids_to_get,\n",
    "                                  desc=f'Movies from {YEAR}',\n",
    "                                  position=1,\n",
    "                                  leave=True):\n",
    "        try:\n",
    "            # Retrieve then data for the movie id\n",
    "            temp = get_movie_with_rating(movie_id)  \n",
    "            # Append/extend results to existing file using a pre-made function\n",
    "            write_json(temp,JSON_FILE)\n",
    "            # Short 20 ms sleep to prevent overwhelming server\n",
    "            time.sleep(0.02)\n",
    "            \n",
    "        except Exception as e:\n",
    "            errors.append([movie_id, e])\n",
    "            \n",
    "    final_year_df = pd.read_json(JSON_FILE)\n",
    "    final_year_df.to_csv(f\"{FOLDER}final_tmdb_data_{YEAR}.csv.gz\", compression=\"gzip\", index=False)"
   ]
  },
  {
   "cell_type": "code",
   "execution_count": null,
   "id": "ed87a4de",
   "metadata": {},
   "outputs": [],
   "source": []
  }
 ],
 "metadata": {
  "kernelspec": {
   "display_name": "Python (dojo-env)",
   "language": "python",
   "name": "dojo-env"
  },
  "language_info": {
   "codemirror_mode": {
    "name": "ipython",
    "version": 3
   },
   "file_extension": ".py",
   "mimetype": "text/x-python",
   "name": "python",
   "nbconvert_exporter": "python",
   "pygments_lexer": "ipython3",
   "version": "3.9.15"
  },
  "toc": {
   "base_numbering": 1,
   "nav_menu": {},
   "number_sections": false,
   "sideBar": true,
   "skip_h1_title": false,
   "title_cell": "Table of Contents",
   "title_sidebar": "Contents",
   "toc_cell": true,
   "toc_position": {},
   "toc_section_display": true,
   "toc_window_display": true
  }
 },
 "nbformat": 4,
 "nbformat_minor": 5
}
