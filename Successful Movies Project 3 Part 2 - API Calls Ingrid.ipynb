{
 "cells": [
  {
   "cell_type": "markdown",
   "id": "6be2a8a4",
   "metadata": {},
   "source": [
    "# Successful Movies\n",
    "---\n",
    "\n",
    "## Project 3 - Part 2 Extract from TMDB (Core)\n",
    "\n",
    "* ### ***What Makes a Movie Successful?***\n",
    "\n",
    "* ### Ingrid Arbieto Nelson"
   ]
  },
  {
   "cell_type": "markdown",
   "id": "0d487bfe",
   "metadata": {},
   "source": [
    "### Business Problem\n",
    "> *For this project, you have been hired to produce a MySQL database on Movies from a subset of IMDB's publicly available dataset. Ultimately, you will use this database to analyze what makes a movie successful, and will provide recommendations to the stakeholder on how to make a successful movie.*\n",
    "\n",
    "Over the course of this project, you will:\n",
    "\n",
    "* Part 1: Download several files from IMDB’s movie data set and filter out the subset of moves requested by the stakeholder.\n",
    "* Part 2: Use an API to extract box office revenue and profit data to add to your IMDB data and perform exploratory data analysis.\n",
    "* Part 3: Construct and export a MySQL database using your data.\n",
    "* Part 4: Apply hypothesis testing to explore what makes a movie successful.\n",
    "* Part 5 (Optional): Produce a Linear Regression model to predict movie performance.\n",
    "\n",
    "<img src =\"Images/theater.png\">\n",
    "\n",
    "### Your Stakeholder Wants More Data!\n",
    "* After investigating the preview of your data from Part 1, your stakeholder realized that there is no financial information included in the IMDB data (e.g. budget or revenue).\n",
    "\n",
    "* This will be a major roadblock when attempting to analyze which movies are successful and must be addressed before you will be able to determine which movies are successful.\n",
    "\n",
    "* Your stakeholder identified The Movie Database (TMDB) as a great source of financial data (https://www.themoviedb.org/). Thankfully, TMDB offers a free API for programmatic access to their data!\n",
    "\n",
    "* **Your stakeholder wants you to extract the budget, revenue, and MPAA Rating (G/PG/PG-13/R), which is also called \"Certification\".**\n",
    "\n",
    "* **Note: this process can take a long time and may need to run overnight.**\n",
    "\n",
    "### Specifications - Financial Data\n",
    "* Your stakeholder would like you to extract and save the results for movies that meet all of the criteria established in part 1 of the project *(You should already have a filtered dataframe saved from part one as a csv.gz file)*\n",
    "\n",
    "* As a proof-of-concept, they requested you perform a test extraction of movies that started in ***2000 or 2001***\n",
    "\n",
    "* Each year should be saved as a separate .csv.gz file\n",
    "\n",
    "**Hint: Use the two custom functions from the lessons** ***(Intro to TMDB API, and Efficient TMDB API Calls).*** **Be sure to define these functions prior to calling them in your code!**\n",
    "\n",
    "* One function will add the certification (MPGG Rating) to movie.info\n",
    "* The other function will help you append/extend a JSON file with Python\n",
    "\n",
    "### Confirm Your API Function works.\n",
    "\n",
    "* In order to ensure your function for extracting movie data from TMDB is working, test your function on these 2 movie ids:\n",
    "   * tt0848228 (\"The Avengers\")\n",
    "   * tt0332280 (\"The Notebook\").\n",
    "* Make sure that your function runs without error and that it returns the correct movie's data for both test ids.\n",
    "\n",
    "**Hint: Ideally you can organize the code segments from the previous lesson to create an outer and inner loop, but if you get stuck, you can complete 1 year at a time.**\n",
    "\n",
    "* Once you have retrieved and saved the final results to 2 separate .csv.gz files, move on to a new Exploratory Data Analysis notebook to explore the following questions."
   ]
  },
  {
   "cell_type": "code",
   "execution_count": null,
   "id": "a4d32be7",
   "metadata": {},
   "outputs": [],
   "source": []
  }
 ],
 "metadata": {
  "kernelspec": {
   "display_name": "Python (dojo-env)",
   "language": "python",
   "name": "dojo-env"
  },
  "language_info": {
   "codemirror_mode": {
    "name": "ipython",
    "version": 3
   },
   "file_extension": ".py",
   "mimetype": "text/x-python",
   "name": "python",
   "nbconvert_exporter": "python",
   "pygments_lexer": "ipython3",
   "version": "3.9.15"
  },
  "toc": {
   "base_numbering": 1,
   "nav_menu": {},
   "number_sections": false,
   "sideBar": true,
   "skip_h1_title": false,
   "title_cell": "Table of Contents",
   "title_sidebar": "Contents",
   "toc_cell": true,
   "toc_position": {},
   "toc_section_display": true,
   "toc_window_display": true
  }
 },
 "nbformat": 4,
 "nbformat_minor": 5
}
